{
 "cells": [
  {
   "cell_type": "code",
   "execution_count": 8,
   "metadata": {},
   "outputs": [],
   "source": [
    "# Importing the libraries\n",
    "import os\n",
    "import numpy as np\n",
    "import matplotlib.pyplot as plt\n",
    "import pandas as pd\n",
    "import datetime as dt\n",
    "from sklearn.preprocessing import LabelEncoder, OneHotEncoder\n",
    "\n",
    "%matplotlib inline\n",
    "import matplotlib.pyplot as plt\n",
    "import pylab as pl\n",
    "from matplotlib.colors import ListedColormap\n",
    "import seaborn as sns\n",
    "import itertools\n",
    "from itertools import combinations\n",
    "\n",
    "import warnings\n",
    "\n",
    "from sklearn.metrics import accuracy_score \n",
    "from sklearn.metrics import classification_report \n",
    "from sklearn.metrics import confusion_matrix\n",
    "from sklearn.model_selection import GridSearchCV, KFold, cross_val_score \n",
    "from xgboost.sklearn import XGBClassifier\n",
    "from lightgbm.sklearn import LGBMClassifier\n",
    "from lightgbm.sklearn import LGBMRegressor\n",
    "from sklearn import neighbors, datasets\n",
    "from sklearn.preprocessing import StandardScaler\n",
    "from sklearn.model_selection import cross_val_score, validation_curve\n",
    "from sklearn.base import clone\n",
    "from sklearn.preprocessing import LabelEncoder\n",
    "from sklearn.model_selection import train_test_split, learning_curve, ShuffleSplit \n",
    "from sklearn import linear_model \n",
    "from sklearn.metrics import roc_curve, auc, mean_squared_error, f1_score\n",
    "from sklearn import preprocessing\n",
    "import keras\n",
    "import xgboost as xgb\n",
    "import lightgbm as lgb\n",
    "import keras\n",
    "from keras.models import Sequential\n",
    "from keras.layers import Dense\n",
    "np.random.seed(42)\n",
    "\n",
    "\n",
    "import pandas as pd\n",
    "import numpy as np\n",
    "\n",
    "import seaborn as sns\n",
    "import datetime as dt\n",
    "import matplotlib.pyplot as plt\n",
    "\n",
    "import itertools\n",
    "from sklearn.utils import resample\n",
    "from math import sqrt\n",
    "import statistics\n",
    "\n",
    "from sklearn.preprocessing import StandardScaler, LabelEncoder , PolynomialFeatures ,MinMaxScaler\n",
    "\n",
    "from sklearn import neighbors , datasets\n",
    "\n",
    "from sklearn import linear_model\n",
    "from sklearn.tree import DecisionTreeClassifier ,DecisionTreeRegressor \n",
    "from sklearn.neighbors import KNeighborsClassifier , KNeighborsRegressor\n",
    "from sklearn.linear_model import LogisticRegression, Lasso , Ridge , LinearRegression\n",
    "from sklearn.feature_selection import RFE\n",
    "\n",
    "from sklearn.model_selection import train_test_split ,ShuffleSplit, KFold\n",
    "from sklearn.model_selection import cross_val_score, validation_curve ,learning_curve, GridSearchCV\n",
    "\n",
    "from sklearn.metrics import accuracy_score, f1_score, cohen_kappa_score, classification_report, confusion_matrix,roc_curve,auc,mean_squared_error,mean_absolute_error\n"
   ]
  },
  {
   "cell_type": "markdown",
   "metadata": {},
   "source": [
    "## Lasso Regression"
   ]
  },
  {
   "cell_type": "code",
   "execution_count": 50,
   "metadata": {},
   "outputs": [],
   "source": [
    "# Importing the dataset\n",
    "df = pd.read_csv(\"C:/Users/banva/Downloads/df.csv\")\n",
    "df.head()\n",
    "df= df.drop(['Unnamed: 0'],axis=1)\n",
    "df= df.drop(['MEDV'],axis=1)"
   ]
  },
  {
   "cell_type": "code",
   "execution_count": 51,
   "metadata": {},
   "outputs": [
    {
     "data": {
      "text/html": [
       "<div>\n",
       "<style scoped>\n",
       "    .dataframe tbody tr th:only-of-type {\n",
       "        vertical-align: middle;\n",
       "    }\n",
       "\n",
       "    .dataframe tbody tr th {\n",
       "        vertical-align: top;\n",
       "    }\n",
       "\n",
       "    .dataframe thead th {\n",
       "        text-align: right;\n",
       "    }\n",
       "</style>\n",
       "<table border=\"1\" class=\"dataframe\">\n",
       "  <thead>\n",
       "    <tr style=\"text-align: right;\">\n",
       "      <th></th>\n",
       "      <th>CRIM</th>\n",
       "      <th>INDUS</th>\n",
       "      <th>NOX</th>\n",
       "      <th>RM</th>\n",
       "      <th>AGE</th>\n",
       "      <th>RAD</th>\n",
       "      <th>TAX</th>\n",
       "      <th>PTRATIO</th>\n",
       "      <th>LSTAT</th>\n",
       "      <th>CHAS</th>\n",
       "      <th>CAT.MEDV</th>\n",
       "      <th>Validation</th>\n",
       "    </tr>\n",
       "  </thead>\n",
       "  <tbody>\n",
       "    <tr>\n",
       "      <th>0</th>\n",
       "      <td>0.00632</td>\n",
       "      <td>2.31</td>\n",
       "      <td>0.538</td>\n",
       "      <td>6.575</td>\n",
       "      <td>65.2</td>\n",
       "      <td>1</td>\n",
       "      <td>296</td>\n",
       "      <td>15.3</td>\n",
       "      <td>4.98</td>\n",
       "      <td>0</td>\n",
       "      <td>0</td>\n",
       "      <td>0</td>\n",
       "    </tr>\n",
       "    <tr>\n",
       "      <th>1</th>\n",
       "      <td>0.02731</td>\n",
       "      <td>7.07</td>\n",
       "      <td>0.469</td>\n",
       "      <td>6.421</td>\n",
       "      <td>78.9</td>\n",
       "      <td>2</td>\n",
       "      <td>242</td>\n",
       "      <td>17.8</td>\n",
       "      <td>9.14</td>\n",
       "      <td>0</td>\n",
       "      <td>0</td>\n",
       "      <td>0</td>\n",
       "    </tr>\n",
       "    <tr>\n",
       "      <th>2</th>\n",
       "      <td>0.02729</td>\n",
       "      <td>7.07</td>\n",
       "      <td>0.469</td>\n",
       "      <td>7.185</td>\n",
       "      <td>61.1</td>\n",
       "      <td>2</td>\n",
       "      <td>242</td>\n",
       "      <td>17.8</td>\n",
       "      <td>4.03</td>\n",
       "      <td>0</td>\n",
       "      <td>1</td>\n",
       "      <td>0</td>\n",
       "    </tr>\n",
       "    <tr>\n",
       "      <th>3</th>\n",
       "      <td>0.03237</td>\n",
       "      <td>2.18</td>\n",
       "      <td>0.458</td>\n",
       "      <td>6.998</td>\n",
       "      <td>45.8</td>\n",
       "      <td>3</td>\n",
       "      <td>222</td>\n",
       "      <td>18.7</td>\n",
       "      <td>2.94</td>\n",
       "      <td>0</td>\n",
       "      <td>1</td>\n",
       "      <td>0</td>\n",
       "    </tr>\n",
       "    <tr>\n",
       "      <th>4</th>\n",
       "      <td>0.06905</td>\n",
       "      <td>2.18</td>\n",
       "      <td>0.458</td>\n",
       "      <td>7.147</td>\n",
       "      <td>54.2</td>\n",
       "      <td>3</td>\n",
       "      <td>222</td>\n",
       "      <td>18.7</td>\n",
       "      <td>5.33</td>\n",
       "      <td>0</td>\n",
       "      <td>1</td>\n",
       "      <td>0</td>\n",
       "    </tr>\n",
       "  </tbody>\n",
       "</table>\n",
       "</div>"
      ],
      "text/plain": [
       "      CRIM  INDUS    NOX     RM   AGE  RAD  TAX  PTRATIO  LSTAT  CHAS  \\\n",
       "0  0.00632   2.31  0.538  6.575  65.2    1  296     15.3   4.98     0   \n",
       "1  0.02731   7.07  0.469  6.421  78.9    2  242     17.8   9.14     0   \n",
       "2  0.02729   7.07  0.469  7.185  61.1    2  242     17.8   4.03     0   \n",
       "3  0.03237   2.18  0.458  6.998  45.8    3  222     18.7   2.94     0   \n",
       "4  0.06905   2.18  0.458  7.147  54.2    3  222     18.7   5.33     0   \n",
       "\n",
       "   CAT.MEDV  Validation  \n",
       "0         0           0  \n",
       "1         0           0  \n",
       "2         1           0  \n",
       "3         1           0  \n",
       "4         1           0  "
      ]
     },
     "execution_count": 51,
     "metadata": {},
     "output_type": "execute_result"
    }
   ],
   "source": [
    "df.head()"
   ]
  },
  {
   "cell_type": "code",
   "execution_count": 52,
   "metadata": {},
   "outputs": [
    {
     "data": {
      "text/plain": [
       "CRIM          float64\n",
       "INDUS         float64\n",
       "NOX           float64\n",
       "RM            float64\n",
       "AGE           float64\n",
       "RAD             int64\n",
       "TAX             int64\n",
       "PTRATIO       float64\n",
       "LSTAT         float64\n",
       "CHAS            int64\n",
       "CAT.MEDV        int64\n",
       "Validation      int64\n",
       "dtype: object"
      ]
     },
     "execution_count": 52,
     "metadata": {},
     "output_type": "execute_result"
    }
   ],
   "source": [
    "df.dtypes\n",
    "#Mapping to 1 and 0. Attrition, Gender, OverTime \n",
    "#remove EmployeeNumber, EmployeeCount, Over18\n",
    "#Dummy EducationField, Department , BusinessTravel, JobRole , MaritalStatus "
   ]
  },
  {
   "cell_type": "code",
   "execution_count": 53,
   "metadata": {},
   "outputs": [],
   "source": [
    "train = df[df['Validation'] == 0]\n",
    "train =train.drop(['Validation'],axis=1)\n",
    "\n",
    "test = df[df['Validation'] == 1]\n",
    "test = test.drop(['Validation'],axis=1)\n",
    "\n",
    "X_train = train.drop(['CAT.MEDV'] ,axis= 1).reset_index(drop = True)\n",
    "X_test = test.drop(['CAT.MEDV'] ,axis= 1).reset_index(drop = True)\n",
    "y_train = train['CAT.MEDV'].reset_index(drop = True)\n",
    "y_test = test['CAT.MEDV'].reset_index(drop = True)"
   ]
  },
  {
   "cell_type": "markdown",
   "metadata": {},
   "source": [
    "## Lasso"
   ]
  },
  {
   "cell_type": "code",
   "execution_count": 54,
   "metadata": {},
   "outputs": [
    {
     "data": {
      "text/plain": [
       "GridSearchCV(cv=10, error_score=nan,\n",
       "             estimator=Lasso(alpha=1.0, copy_X=True, fit_intercept=True,\n",
       "                             max_iter=1000, normalize=False, positive=False,\n",
       "                             precompute=False, random_state=None,\n",
       "                             selection='cyclic', tol=0.0001, warm_start=False),\n",
       "             iid='deprecated', n_jobs=None,\n",
       "             param_grid=[{'alpha': [0, 0.25, 0.5, 0.75, 1.0],\n",
       "                          'fit_intercept': [True, False],\n",
       "                          'max_iter': [1, 5, 10, 15, 20],\n",
       "                          'normalize': [True, False]}],\n",
       "             pre_dispatch='2*n_jobs', refit=True, return_train_score=False,\n",
       "             scoring='neg_mean_squared_error', verbose=0)"
      ]
     },
     "execution_count": 54,
     "metadata": {},
     "output_type": "execute_result"
    }
   ],
   "source": [
    "import sys\n",
    "import warnings\n",
    "\n",
    "if not sys.warnoptions:\n",
    " warnings.simplefilter(\"ignore\") \n",
    "\n",
    "inner_cv = KFold(n_splits=10, shuffle=True,random_state=42)\n",
    "outer_cv = KFold(n_splits=10, shuffle=True, random_state=42)\n",
    "\n",
    "GS_lasso = GridSearchCV(estimator=Lasso(),\n",
    "                  param_grid= [{'alpha':[0,0.25,0.5,0.75,1.0], \n",
    "                                'fit_intercept':[True,False], \n",
    "                                'normalize':[True,False], \n",
    "                                'max_iter':[1,5,10,15,20]}],  \n",
    "                  scoring = 'neg_mean_squared_error',\n",
    "                  cv=10)\n",
    "\n",
    "GS_lasso.fit(X_train,y_train)"
   ]
  },
  {
   "cell_type": "code",
   "execution_count": 47,
   "metadata": {},
   "outputs": [
    {
     "name": "stdout",
     "output_type": "stream",
     "text": [
      " Parameter Tuning for Lasso Regression\n",
      "\n",
      "Non-nested CV MSE :  -0.04661322578395948\n",
      "\n",
      "Optimal Parameter:  {'alpha': 0, 'fit_intercept': True, 'max_iter': 10, 'normalize': True}\n",
      "\n",
      "Optimal Estimator:  Lasso(alpha=0, copy_X=True, fit_intercept=True, max_iter=10, normalize=True,\n",
      "      positive=False, precompute=False, random_state=None, selection='cyclic',\n",
      "      tol=0.0001, warm_start=False)\n",
      "\n",
      "Nested CV mse:  -0.047803955769779784  +/-  0.028533625247605686\n"
     ]
    }
   ],
   "source": [
    "print(\" Parameter Tuning for Lasso Regression\")\n",
    "print()\n",
    "print(\"Non-nested CV MSE : \", GS_lasso.best_score_)\n",
    "print()\n",
    "print(\"Optimal Parameter: \", GS_lasso.best_params_)    # Parameter setting that gave the best results on the hold out data.\n",
    "print()\n",
    "print(\"Optimal Estimator: \", GS_lasso.best_estimator_)\n",
    "print()\n",
    "\n",
    "GS_lasso_nested = cross_val_score(GS_lasso, X=X_train, y=y_train, cv= 10 , scoring=\"neg_mean_squared_error\")\n",
    "\n",
    "print(\"Nested CV mse: \",GS_lasso_nested.mean(), \" +/- \", GS_lasso_nested.std())"
   ]
  },
  {
   "cell_type": "code",
   "execution_count": 48,
   "metadata": {},
   "outputs": [
    {
     "name": "stdout",
     "output_type": "stream",
     "text": [
      " MSE:  -0.04661322578395948  +/-  0.028528097332459486\n"
     ]
    }
   ],
   "source": [
    "cross_val_lasso = cross_val_score(Lasso(alpha=0, copy_X=True, fit_intercept=True, max_iter=10, normalize=True,\n",
    "      positive=False, precompute=False, random_state=None, selection='cyclic',\n",
    "      tol=0.0001, warm_start=False), X=X_train, y=y_train, cv=10 ,scoring = \"neg_mean_squared_error\")\n",
    "print(\" MSE: \", cross_val_lasso.mean(), \" +/- \", cross_val_lasso.std())"
   ]
  },
  {
   "cell_type": "markdown",
   "metadata": {},
   "source": [
    "## SFS"
   ]
  },
  {
   "cell_type": "code",
   "execution_count": 49,
   "metadata": {},
   "outputs": [
    {
     "name": "stdout",
     "output_type": "stream",
     "text": [
      "Number of features selected:  2\n",
      "Features selected:  Index(['TAX', 'MEDV'], dtype='object')\n"
     ]
    }
   ],
   "source": [
    "from sklearn.svm import LinearSVC\n",
    "from sklearn.feature_selection import SelectFromModel\n",
    "\n",
    "train_sbs_dt = X_train\n",
    "classifier_sbs = Lasso().fit(train_sbs_dt, y_train) \n",
    "mod = SelectFromModel(classifier_sbs, prefit=True)\n",
    "\n",
    "mod.transform(train_sbs_dt)\n",
    "\n",
    "print('Number of features selected: ', len(train_sbs_dt.columns[list(mod.get_support())]))\n",
    "print('Features selected: ', train_sbs_dt.columns[list(mod.get_support())] )"
   ]
  },
  {
   "cell_type": "code",
   "execution_count": null,
   "metadata": {},
   "outputs": [],
   "source": [
    "lasso = Lasso(alpha=0, fit_intercept=True, max_iter=20, normalize=True  )   \n",
    "\n",
    "lasso.fit(X_train, y_train) \n",
    "\n",
    "y_train_pred = lasso.predict(X_train) \n",
    "\n",
    "y_test_pred = lasso.predict(X_test)   \n",
    "\n",
    "print(lasso.coef_)\n",
    "\n",
    "print('MSE train: %.3f, test: %.3f' % (\n",
    "        mean_squared_error(y_train, y_train_pred),\n",
    "        mean_squared_error(y_test, y_test_pred))) \n",
    "\n",
    "print('MAE train: %.3f, test: %.3f' % ( \n",
    "        mean_absolute_error(y_train, y_train_pred),\n",
    "        mean_absolute_error(y_test, y_test_pred))) "
   ]
  }
 ],
 "metadata": {
  "kernelspec": {
   "display_name": "Python 3",
   "language": "python",
   "name": "python3"
  },
  "language_info": {
   "codemirror_mode": {
    "name": "ipython",
    "version": 3
   },
   "file_extension": ".py",
   "mimetype": "text/x-python",
   "name": "python",
   "nbconvert_exporter": "python",
   "pygments_lexer": "ipython3",
   "version": "3.7.6"
  }
 },
 "nbformat": 4,
 "nbformat_minor": 4
}
