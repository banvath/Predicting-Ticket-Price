{
 "cells": [
  {
   "cell_type": "code",
   "execution_count": 21,
   "metadata": {},
   "outputs": [],
   "source": [
    "from __future__ import division, print_function, unicode_literals\n",
    "\n",
    "\n",
    "import pandas as pd\n",
    "import numpy as np\n",
    "\n",
    "import seaborn as sns\n",
    "import datetime as dt\n",
    "import matplotlib.pyplot as plt\n",
    "\n",
    "import itertools\n",
    "from sklearn.utils import resample\n",
    "from math import sqrt\n",
    "import statistics\n",
    "\n",
    "from sklearn.preprocessing import StandardScaler, LabelEncoder , PolynomialFeatures ,MinMaxScaler\n",
    "\n",
    "from sklearn import neighbors , datasets\n",
    "\n",
    "from sklearn import linear_model\n",
    "from sklearn.tree import DecisionTreeClassifier ,DecisionTreeRegressor \n",
    "from sklearn.neighbors import KNeighborsClassifier , KNeighborsRegressor\n",
    "from sklearn.linear_model import LogisticRegression, Lasso , Ridge , LinearRegression\n",
    "from sklearn.feature_selection import RFE\n",
    "\n",
    "from sklearn.model_selection import train_test_split ,ShuffleSplit, KFold\n",
    "from sklearn.model_selection import cross_val_score, validation_curve ,learning_curve, GridSearchCV\n",
    "\n",
    "from sklearn.metrics import accuracy_score, f1_score, cohen_kappa_score, classification_report, confusion_matrix,roc_curve,auc,mean_squared_error,mean_absolute_error\n"
   ]
  },
  {
   "cell_type": "code",
   "execution_count": 3,
   "metadata": {},
   "outputs": [],
   "source": [
    "train = pd.read_csv(r'C:\\Users\\banva\\Desktop\\MSBA\\Intro to BA\\Project\\withoutdummies.csv', na_values='')\n",
    "#print(train.head())\n",
    "#print(train.info())\n",
    "#print(train.shape)"
   ]
  },
  {
   "cell_type": "code",
   "execution_count": 4,
   "metadata": {},
   "outputs": [],
   "source": [
    "traindum = pd.read_csv(r'C:\\Users\\banva\\Desktop\\MSBA\\Intro to BA\\Project\\withdummies.csv', na_values='')\n",
    "#print(train.head())\n",
    "#print(train.info())\n",
    "#print(train.shape)"
   ]
  },
  {
   "cell_type": "markdown",
   "metadata": {},
   "source": [
    "# NAIVE RULE"
   ]
  },
  {
   "cell_type": "code",
   "execution_count": 39,
   "metadata": {},
   "outputs": [
    {
     "data": {
      "text/plain": [
       "array([74.62933641, 74.62933641, 74.62933641, ..., 74.62933641,\n",
       "       74.62933641, 74.62933641])"
      ]
     },
     "execution_count": 39,
     "metadata": {},
     "output_type": "execute_result"
    }
   ],
   "source": [
    "a=train.loc[:,'price'].mean()\n",
    "b=np.repeat(a, 70962, axis=None)\n"
   ]
  },
  {
   "cell_type": "code",
   "execution_count": 40,
   "metadata": {},
   "outputs": [
    {
     "data": {
      "text/plain": [
       "1020.8083091943762"
      ]
     },
     "execution_count": 40,
     "metadata": {},
     "output_type": "execute_result"
    }
   ],
   "source": [
    "mean_squared_error(train.loc[:,'price'], b)"
   ]
  },
  {
   "cell_type": "markdown",
   "metadata": {},
   "source": [
    "# LASSO REGRESSION"
   ]
  },
  {
   "cell_type": "code",
   "execution_count": 27,
   "metadata": {},
   "outputs": [],
   "source": [
    "X = traindum.iloc[:,1:] \n",
    "y = traindum.loc[:,'price'] "
   ]
  },
  {
   "cell_type": "markdown",
   "metadata": {},
   "source": [
    "### GRIDSEARCHCV"
   ]
  },
  {
   "cell_type": "code",
   "execution_count": 59,
   "metadata": {},
   "outputs": [
    {
     "data": {
      "text/plain": [
       "GridSearchCV(cv=10, error_score='raise-deprecating',\n",
       "       estimator=Lasso(alpha=1.0, copy_X=True, fit_intercept=True, max_iter=1000,\n",
       "   normalize=False, positive=False, precompute=False, random_state=None,\n",
       "   selection='cyclic', tol=0.0001, warm_start=False),\n",
       "       fit_params=None, iid='warn', n_jobs=None,\n",
       "       param_grid=[{'alpha': [0, 0.25, 0.5, 0.75, 1.0], 'fit_intercept': [True, False], 'normalize': [True, False], 'max_iter': [1, 5, 10, 15, 20]}],\n",
       "       pre_dispatch='2*n_jobs', refit=True, return_train_score='warn',\n",
       "       scoring='neg_mean_squared_error', verbose=0)"
      ]
     },
     "execution_count": 59,
     "metadata": {},
     "output_type": "execute_result"
    }
   ],
   "source": [
    "import sys\n",
    "import warnings\n",
    "\n",
    "if not sys.warnoptions:\n",
    " warnings.simplefilter(\"ignore\") \n",
    "\n",
    "inner_cv = KFold(n_splits=10, shuffle=True,random_state=42)\n",
    "outer_cv = KFold(n_splits=10, shuffle=True, random_state=42)\n",
    "\n",
    "GS_lasso = GridSearchCV(estimator=Lasso(),\n",
    "                  param_grid= [{'alpha':[0,0.25,0.5,0.75,1.0], \n",
    "                                'fit_intercept':[True,False], \n",
    "                                'normalize':[True,False], \n",
    "                                'max_iter':[1,5,10,15,20]}],  \n",
    "                  scoring = 'neg_mean_squared_error',\n",
    "                  cv=10)\n",
    "\n",
    "GS_lasso.fit(X,y)"
   ]
  },
  {
   "cell_type": "code",
   "execution_count": 60,
   "metadata": {},
   "outputs": [
    {
     "name": "stdout",
     "output_type": "stream",
     "text": [
      " Parameter Tuning for Lasso Regression\n",
      "\n",
      "Non-nested CV MSE :  -223.86741548184025\n",
      "\n",
      "Optimal Parameter:  {'alpha': 0, 'fit_intercept': True, 'max_iter': 20, 'normalize': True}\n",
      "\n",
      "Optimal Estimator:  Lasso(alpha=0, copy_X=True, fit_intercept=True, max_iter=20, normalize=True,\n",
      "   positive=False, precompute=False, random_state=None, selection='cyclic',\n",
      "   tol=0.0001, warm_start=False)\n",
      "\n",
      "Nested CV mse:  -223.86621545473645  +/-  27.895949280347477\n"
     ]
    }
   ],
   "source": [
    "print(\" Parameter Tuning for Lasso Regression\")\n",
    "print()\n",
    "print(\"Non-nested CV MSE : \", GS_lasso.best_score_)\n",
    "print()\n",
    "print(\"Optimal Parameter: \", GS_lasso.best_params_)    # Parameter setting that gave the best results on the hold out data.\n",
    "print()\n",
    "print(\"Optimal Estimator: \", GS_lasso.best_estimator_)\n",
    "print()\n",
    "\n",
    "GS_lasso_nested = cross_val_score(GS_lasso, X=X, y=y, cv= 10 , scoring=\"neg_mean_squared_error\")\n",
    "\n",
    "print(\"Nested CV mse: \",GS_lasso_nested.mean(), \" +/- \", GS_lasso_nested.std())"
   ]
  },
  {
   "cell_type": "markdown",
   "metadata": {},
   "source": [
    "### CROSSVALIDATION"
   ]
  },
  {
   "cell_type": "code",
   "execution_count": 51,
   "metadata": {},
   "outputs": [
    {
     "name": "stdout",
     "output_type": "stream",
     "text": [
      " Performance:  -383.3880305419385  +/-  86.63509437159826\n"
     ]
    }
   ],
   "source": [
    "cross_val_lasso = cross_val_score(Lasso(), X=X, y=y, cv=10 ,scoring = \"neg_mean_squared_error\")\n",
    "print(\" MSE: \", cross_val_lasso.mean(), \" +/- \", cross_val_lasso.std())"
   ]
  },
  {
   "cell_type": "markdown",
   "metadata": {},
   "source": [
    "### TRAIN_TEST_SPLIT"
   ]
  },
  {
   "cell_type": "code",
   "execution_count": 41,
   "metadata": {},
   "outputs": [],
   "source": [
    "X_train, X_test, y_train, y_test = train_test_split(X, y, test_size=0.3, random_state=42)"
   ]
  },
  {
   "cell_type": "code",
   "execution_count": 57,
   "metadata": {},
   "outputs": [
    {
     "name": "stderr",
     "output_type": "stream",
     "text": [
      "C:\\Users\\banva\\Anaconda3\\lib\\site-packages\\ipykernel_launcher.py:3: UserWarning: With alpha=0, this algorithm does not converge well. You are advised to use the LinearRegression estimator\n",
      "  This is separate from the ipykernel package so we can avoid doing imports until\n",
      "C:\\Users\\banva\\Anaconda3\\lib\\site-packages\\sklearn\\linear_model\\coordinate_descent.py:478: UserWarning: Coordinate descent with no regularization may lead to unexpected results and is discouraged.\n",
      "  positive)\n"
     ]
    },
    {
     "name": "stdout",
     "output_type": "stream",
     "text": [
      "[ 2.21494160e-01 -2.68713661e+00  1.44957888e+00 -7.16396681e+00\n",
      "  3.66383944e+01  1.04373556e+01  1.92152768e+02 -1.54605457e+00\n",
      "  4.38977507e+00 -3.07880573e+01 -2.21695060e+01 -3.74532501e+01\n",
      "  3.13399145e+00  3.72073781e+00  4.48881924e+00 -1.31823879e+00\n",
      " -4.07363968e+00 -3.20321115e+00  4.34851018e-01 -9.81066448e-02\n",
      "  4.50523233e-01 -3.09800256e-01  4.02098886e-01  7.71151140e-02\n",
      "  2.82254136e-01  1.45638240e+00  1.13339023e+00  1.01957284e+00\n",
      " -4.50791048e-02 -3.91948836e-01  1.84498374e-01  1.29747676e+00\n",
      " -1.18872815e+00  9.38904520e-01 -4.66266351e-01  3.82425166e-01\n",
      " -6.46892854e-01 -6.32204316e-01 -1.22949825e-01 -2.21597528e-01\n",
      " -5.58156744e-02  2.74677120e+00 -5.16301146e-01 -2.86738046e-02\n",
      " -1.40922876e+00 -6.30595105e-01 -7.04508498e-01 -9.49582559e-01\n",
      " -5.18849941e+00 -9.93641624e+00 -4.78274932e+00 -2.74236508e-01\n",
      "  3.09679026e+00  9.18354989e-01  1.30323334e-01  8.20214773e-02\n",
      " -3.85616683e-03  6.21343883e-01 -3.59650201e+00  8.06294465e+00\n",
      " -1.75394211e+01 -3.95579348e+00  3.79863301e+00  2.23828116e+00\n",
      "  3.86346630e+00 -3.34811607e+00 -7.01170090e+00  7.12332425e+00\n",
      "  1.13331875e+01  1.24995064e+00  4.71608147e-01 -2.90825150e+00\n",
      " -1.18643016e+01 -5.85288755e+00 -5.27094087e-01 -5.83779868e+00\n",
      " -1.01093387e+00 -2.79406524e+00  1.06992221e+00  1.13789961e+00\n",
      " -1.13380439e+00  5.14653850e-01  1.15207673e+00  1.26426108e-01\n",
      " -1.45379203e+00 -1.58903750e+00 -2.02336487e-01  5.92016906e-01\n",
      " -5.12566313e-01 -5.96015281e-01 -4.64582973e+00  3.35327656e+00\n",
      "  8.90930557e+00  3.25240456e+00 -2.02659887e+00 -2.19177626e+00\n",
      " -1.77259223e+00  2.38757262e+00  1.49481172e+00  3.35122499e+00\n",
      "  6.69445241e-01 -6.20350576e+00  3.03731437e+00 -1.53994207e+00\n",
      " -7.75294341e+00 -9.57751680e-01  4.91376006e+00  1.00869979e+00\n",
      " -1.01482218e+00 -1.43517382e+00  2.15712773e+00 -7.22157379e+00\n",
      " -4.72418660e+00 -1.13481986e+01  6.37919869e+00  8.33073378e-01\n",
      " -1.25930265e+01 -4.66571390e+00  1.70147841e+01  2.78331206e+00\n",
      " -1.01446263e+01  2.15073533e+00 -2.18031143e+00 -3.54632128e+00\n",
      " -1.83720113e+00 -1.70122838e+00  2.86106967e+00 -5.31080752e+00\n",
      " -2.99032362e+00 -3.54538311e+00  2.67490458e+00 -9.70958218e-01\n",
      " -9.67517416e+00 -8.96339133e+00 -3.95999178e+00  2.52930136e+00\n",
      " -2.90559547e+00 -8.72312487e+00  4.59017585e-02 -2.78803581e+00\n",
      " -2.82181379e-02 -1.16627825e+00 -3.95864347e-01 -1.58696886e+00\n",
      " -1.37563457e+01 -7.36140201e+00 -2.38999712e+01  3.51592411e+00\n",
      " -1.30335315e+01]\n",
      "MSE train: 210.298, test: 218.074\n",
      "MAE train: 11.113, test: 11.227\n"
     ]
    },
    {
     "name": "stderr",
     "output_type": "stream",
     "text": [
      "C:\\Users\\banva\\Anaconda3\\lib\\site-packages\\sklearn\\linear_model\\coordinate_descent.py:492: ConvergenceWarning: Objective did not converge. You might want to increase the number of iterations. Fitting data with very small alpha may cause precision problems.\n",
      "  ConvergenceWarning)\n"
     ]
    }
   ],
   "source": [
    "lasso = Lasso(alpha=0, fit_intercept=True, max_iter=20, normalize=True  )   \n",
    "\n",
    "lasso.fit(X_train, y_train) \n",
    "\n",
    "y_train_pred = lasso.predict(X_train) \n",
    "\n",
    "y_test_pred = lasso.predict(X_test)   \n",
    "\n",
    "print(lasso.coef_)\n",
    "\n",
    "print('MSE train: %.3f, test: %.3f' % (\n",
    "        mean_squared_error(y_train, y_train_pred),\n",
    "        mean_squared_error(y_test, y_test_pred))) \n",
    "\n",
    "print('MAE train: %.3f, test: %.3f' % ( \n",
    "        mean_absolute_error(y_train, y_train_pred),\n",
    "        mean_absolute_error(y_test, y_test_pred))) "
   ]
  },
  {
   "cell_type": "markdown",
   "metadata": {},
   "source": [
    "# REGRESSION TREE"
   ]
  },
  {
   "cell_type": "code",
   "execution_count": 9,
   "metadata": {},
   "outputs": [],
   "source": [
    "X1 = traindum.iloc[:,1:] \n",
    "y1 = traindum.loc[:,'price'] "
   ]
  },
  {
   "cell_type": "code",
   "execution_count": 16,
   "metadata": {},
   "outputs": [
    {
     "name": "stdout",
     "output_type": "stream",
     "text": [
      "<class 'pandas.core.frame.DataFrame'>\n",
      "RangeIndex: 70963 entries, 0 to 70962\n",
      "Columns: 149 entries, travel_time to route_8\n",
      "dtypes: float64(1), int64(148)\n",
      "memory usage: 80.7 MB\n"
     ]
    }
   ],
   "source": [
    "X1.info()"
   ]
  },
  {
   "cell_type": "markdown",
   "metadata": {},
   "source": [
    "### GRIDSEARCHCV"
   ]
  },
  {
   "cell_type": "code",
   "execution_count": 11,
   "metadata": {},
   "outputs": [
    {
     "name": "stdout",
     "output_type": "stream",
     "text": [
      " Parameter Tuning\n",
      "\n",
      "Non-nested Performance:  -172.5156345113843\n",
      "\n",
      "Optimal Parameter:  {'max_depth': 13}\n",
      "\n",
      "Optimal Estimator:  DecisionTreeRegressor(criterion='mse', max_depth=13, max_features=None,\n",
      "           max_leaf_nodes=None, min_impurity_decrease=0.0,\n",
      "           min_impurity_split=None, min_samples_leaf=1,\n",
      "           min_samples_split=2, min_weight_fraction_leaf=0.0,\n",
      "           presort=False, random_state=None, splitter='best')\n",
      "\n"
     ]
    }
   ],
   "source": [
    "GS_DT = GridSearchCV(DecisionTreeRegressor(), \n",
    "                     param_grid=[{'max_depth':range(3,50)}], \n",
    "                     n_jobs=4,\n",
    "                     scoring='neg_mean_squared_error',\n",
    "                     cv=10) \n",
    "\n",
    "GS_DT.fit(X1, y1)\n",
    "\n",
    "print(\" Parameter Tuning\")\n",
    "print()\n",
    "print(\"Non-nested Performance: \", GS_DT.best_score_)\n",
    "print()\n",
    "print(\"Optimal Parameter: \",GS_DT.best_params_)  \n",
    "print() \n",
    "print(\"Optimal Estimator: \", GS_DT.best_estimator_) \n",
    "print()"
   ]
  },
  {
   "cell_type": "markdown",
   "metadata": {},
   "source": [
    "### CROSS VALIDATION"
   ]
  },
  {
   "cell_type": "code",
   "execution_count": 13,
   "metadata": {},
   "outputs": [
    {
     "name": "stdout",
     "output_type": "stream",
     "text": [
      "Nested CV Performance:  -175.13154403181096  +/-  39.50586454444203\n"
     ]
    }
   ],
   "source": [
    "GS_DT_CV = cross_val_score(GS_DT, X=X1, y=y1, cv=10)\n",
    "print(\"Nested CV Performance: \",GS_DT_CV.mean(), \" +/- \", GS_DT_CV.std())"
   ]
  },
  {
   "cell_type": "markdown",
   "metadata": {},
   "source": [
    "### TRAIN TEST SPLIT"
   ]
  },
  {
   "cell_type": "code",
   "execution_count": 15,
   "metadata": {},
   "outputs": [
    {
     "name": "stdout",
     "output_type": "stream",
     "text": [
      "MSE train: 125.043, test: 151.819\n",
      "MAE train: 7.492, test: 8.221\n"
     ]
    }
   ],
   "source": [
    "X_train1, X_test1, y_train1, y_test1 = train_test_split(X1, y1, test_size=0.3, random_state=42)\n",
    "\n",
    "tree = DecisionTreeRegressor(max_depth=13)\n",
    "tree.fit(X_train1, y_train1)\n",
    "\n",
    "y_train_pred = tree.predict(X_train1)\n",
    "y_test_pred = tree.predict(X_test1) \n",
    "\n",
    "print('MSE train: %.3f, test: %.3f' % ( \n",
    "        mean_squared_error(y_train1, y_train_pred),\n",
    "        mean_squared_error(y_test1, y_test_pred)))\n",
    "print('MAE train: %.3f, test: %.3f' % ( \n",
    "        mean_absolute_error(y_train1, y_train_pred),\n",
    "        mean_absolute_error(y_test1, y_test_pred))) "
   ]
  },
  {
   "cell_type": "markdown",
   "metadata": {},
   "source": [
    "# KNN REGRESSION"
   ]
  },
  {
   "cell_type": "code",
   "execution_count": 54,
   "metadata": {},
   "outputs": [
    {
     "name": "stderr",
     "output_type": "stream",
     "text": [
      "C:\\Users\\banva\\Anaconda3\\lib\\site-packages\\sklearn\\preprocessing\\data.py:645: DataConversionWarning: Data with input dtype int64, float64 were all converted to float64 by StandardScaler.\n",
      "  return self.partial_fit(X, y)\n",
      "C:\\Users\\banva\\Anaconda3\\lib\\site-packages\\ipykernel_launcher.py:6: DataConversionWarning: Data with input dtype int64, float64 were all converted to float64 by StandardScaler.\n",
      "  \n"
     ]
    }
   ],
   "source": [
    "X2 = traindum.iloc[:,1:] \n",
    "y2 = traindum.loc[:,'price'] \n",
    "\n",
    "sc = StandardScaler()\n",
    "sc.fit(X2)\n",
    "X_std2=sc.transform(X2)"
   ]
  },
  {
   "cell_type": "markdown",
   "metadata": {},
   "source": [
    "### GRIDSEARCHCV"
   ]
  },
  {
   "cell_type": "code",
   "execution_count": 55,
   "metadata": {},
   "outputs": [
    {
     "name": "stdout",
     "output_type": "stream",
     "text": [
      "\n",
      " Parameter Tuning \n",
      "\n",
      "Non-nested CV f1:  -489.6189857815545\n",
      "\n",
      "Optimal Parameter:  {'n_neighbors': 21, 'weights': 'distance'}\n",
      "\n",
      "Optimal Estimator:  KNeighborsRegressor(algorithm='auto', leaf_size=30, metric='minkowski',\n",
      "          metric_params=None, n_jobs=None, n_neighbors=21, p=2,\n",
      "          weights='distance')\n",
      "\n"
     ]
    }
   ],
   "source": [
    "GS_KNN = GridSearchCV(estimator=neighbors.KNeighborsRegressor(p=2, \n",
    "                           metric='minkowski'),\n",
    "                  param_grid=[{'n_neighbors': [1,3,5,7,9,11,13,15,17,19,21],\n",
    "                               'weights':['uniform','distance']}],\n",
    "                  scoring= \"neg_mean_squared_error\",    \n",
    "                  cv=5,\n",
    "                  n_jobs=5)\n",
    "\n",
    "GS_KNN.fit(X_std2,y2)  \n",
    "\n",
    "print(\"\\n Parameter Tuning \")\n",
    "print()\n",
    "print(\"Non-nested CV f1: \", GS_KNN.best_score_)\n",
    "print()\n",
    "print(\"Optimal Parameter: \", GS_KNN.best_params_)\n",
    "print()\n",
    "print(\"Optimal Estimator: \", GS_KNN.best_estimator_) # Estimator that was chosen by the search, i.e. estimator which gave highest score\n",
    "print()\n",
    "\n"
   ]
  },
  {
   "cell_type": "markdown",
   "metadata": {},
   "source": [
    "### CROSS VALIDATION"
   ]
  },
  {
   "cell_type": "code",
   "execution_count": null,
   "metadata": {},
   "outputs": [],
   "source": [
    "GS_KNN_CV = cross_val_score(GS_KNN, X=X_std2, y=y2, cv=10 , scoring= \"neg_mean_squared_error\")\n",
    "\n",
    "print(\"Nested CV f1: \",GS_KNN_CV.mean(), \" +/- \", GS_KNN_CV.std())"
   ]
  },
  {
   "cell_type": "markdown",
   "metadata": {},
   "source": [
    "### TRAIN TEST SPLIT"
   ]
  },
  {
   "cell_type": "code",
   "execution_count": 61,
   "metadata": {},
   "outputs": [
    {
     "name": "stdout",
     "output_type": "stream",
     "text": [
      "MSE train: 226.024, test: 345.907\n",
      "MAE train: 10.630, test: 13.233\n"
     ]
    }
   ],
   "source": [
    "X_train1, X_test1, y_train1, y_test1 = train_test_split(X1, y1, test_size=0.3, random_state=42)\n",
    "\n",
    "KNN = neighbors.KNeighborsRegressor()\n",
    "KNN.fit(X_train1, y_train1)\n",
    "\n",
    "y_train_pred = KNN.predict(X_train1)\n",
    "y_test_pred = KNN.predict(X_test1) \n",
    "\n",
    "print('MSE train: %.3f, test: %.3f' % ( \n",
    "        mean_squared_error(y_train1, y_train_pred),\n",
    "        mean_squared_error(y_test1, y_test_pred)))\n",
    "print('MAE train: %.3f, test: %.3f' % ( \n",
    "        mean_absolute_error(y_train1, y_train_pred),\n",
    "        mean_absolute_error(y_test1, y_test_pred))) "
   ]
  },
  {
   "cell_type": "markdown",
   "metadata": {},
   "source": [
    "# LEARNING CURVES"
   ]
  },
  {
   "cell_type": "code",
   "execution_count": 51,
   "metadata": {},
   "outputs": [
    {
     "name": "stdout",
     "output_type": "stream",
     "text": [
      "[[0.73575222 0.750467   0.74066683 0.71558049 0.74508618 0.73241379\n",
      "  0.74636262 0.71958495 0.7564339  0.71988754]\n",
      " [0.75668919 0.7573042  0.7495464  0.75212797 0.76390748 0.75869955\n",
      "  0.75868124 0.75175386 0.75659096 0.75338739]\n",
      " [0.76397694 0.76466331 0.76006412 0.76412967 0.7678383  0.76817525\n",
      "  0.76276956 0.75913666 0.76263023 0.75897176]\n",
      " [0.77050406 0.77181017 0.7683281  0.76956199 0.7728961  0.77281128\n",
      "  0.77109661 0.76836952 0.76744486 0.76882141]\n",
      " [0.77779569 0.77824254 0.77513367 0.77669771 0.77822806 0.7780815\n",
      "  0.77652513 0.77418305 0.7738913  0.77840124]]\n"
     ]
    },
    {
     "data": {
      "image/png": "[encoded data removed]",
      "text/plain": [
       "<Figure size 432x288 with 1 Axes>"
      ]
     },
     "metadata": {
      "needs_background": "light"
     },
     "output_type": "display_data"
    },
    {
     "name": "stdout",
     "output_type": "stream",
     "text": [
      "[[0.99213516 0.99293088 0.99150345 0.99380064 0.99247611 0.99294279\n",
      "  0.99153933 0.99105697 0.99324882 0.99160483]\n",
      " [0.97901141 0.98017207 0.97794782 0.97618004 0.98086727 0.97782881\n",
      "  0.97942598 0.97744197 0.97924982 0.98023353]\n",
      " [0.96789752 0.9699874  0.9679006  0.96751769 0.97037417 0.96763008\n",
      "  0.96840069 0.96775037 0.96784287 0.96890331]\n",
      " [0.95985026 0.95997842 0.9588678  0.95963928 0.96082065 0.95949334\n",
      "  0.96039429 0.95910415 0.95912811 0.95989124]\n",
      " [0.95314841 0.95295428 0.95197415 0.95230283 0.95243642 0.95258691\n",
      "  0.95277367 0.95240856 0.95205866 0.95207009]]\n"
     ]
    },
    {
     "data": {
      "image/png": "[encoded data removed]",
      "text/plain": [
       "<Figure size 432x288 with 1 Axes>"
      ]
     },
     "metadata": {
      "needs_background": "light"
     },
     "output_type": "display_data"
    },
    {
     "name": "stdout",
     "output_type": "stream",
     "text": [
      "[[0.73575222 0.750467   0.74066683 0.71558049 0.74508618]\n",
      " [0.75668919 0.7573042  0.7495464  0.75212797 0.76390748]\n",
      " [0.76397694 0.76466331 0.76006412 0.76412967 0.7678383 ]\n",
      " [0.77050406 0.77181017 0.7683281  0.76956199 0.7728961 ]\n",
      " [0.77779569 0.77824254 0.77513367 0.77669771 0.77822806]]\n"
     ]
    },
    {
     "data": {
      "image/png": "[encoded data removed]",
      "text/plain": [
       "<Figure size 432x288 with 1 Axes>"
      ]
     },
     "metadata": {
      "needs_background": "light"
     },
     "output_type": "display_data"
    }
   ],
   "source": [
    "def plot_learning_curve(estimator, title, X, y, ylim=None, cv=None,\n",
    "                        n_jobs=1, train_sizes=np.linspace(.1, 1.0, 5)): \n",
    "    \n",
    "    plt.figure()                    \n",
    "    plt.title(title)\n",
    "    if ylim is not None:\n",
    "        plt.ylim(*ylim)\n",
    "    plt.xlabel(\"Training examples\") \n",
    "    plt.ylabel(\"Score\")          \n",
    "    \n",
    "    train_sizes, train_scores, test_scores = learning_curve(\n",
    "        estimator, X, y, cv=cv, n_jobs=n_jobs, train_sizes=train_sizes)\n",
    "   \n",
    "    print(train_scores)\n",
    " \n",
    "    train_scores_mean = np.mean(train_scores, axis=1)  \n",
    "    train_scores_std = np.std(train_scores, axis=1)   \n",
    "    test_scores_mean = np.mean(test_scores, axis=1)   \n",
    "    test_scores_std = np.std(test_scores, axis=1)     \n",
    "\n",
    "    plt.grid()  \n",
    "    \n",
    "    plt.fill_between(train_sizes, train_scores_mean - train_scores_std,\n",
    "                     train_scores_mean + train_scores_std, alpha=0.1,\n",
    "                     color=\"r\")  \n",
    "    plt.fill_between(train_sizes, test_scores_mean - test_scores_std,\n",
    "                     test_scores_mean + test_scores_std, alpha=0.1, color=\"g\")  \n",
    "    plt.plot(train_sizes, train_scores_mean, 'o-', color=\"r\",\n",
    "             label=\"Training score\")\n",
    "     \n",
    "    plt.plot(train_sizes, test_scores_mean, 'o-', color=\"g\",\n",
    "             label=\"Cross-validation score\")\n",
    "\n",
    "    plt.legend(loc=\"best\") \n",
    "    return plt           \n",
    "\n",
    "####################### Visualization of lerning curves for Lasso    ######\n",
    "\n",
    "title = \"Learning Curve (Lasso)\"\n",
    " \n",
    "cv = ShuffleSplit(n_splits=10, test_size=0.3, random_state=42)\n",
    "estimator = neighbors.KNeighborsRegressor() \n",
    "\n",
    "plot_learning_curve(estimator, title, X, y, (0.5, 1.01), cv=cv, n_jobs=4)\n",
    "\n",
    "plt.show()  \n",
    "\n",
    "\n",
    "########################## Visualization of lerning curves for Regression Tree #####\n",
    "\n",
    "title = \"Learning Curve (Regression Tree)\"\n",
    " \n",
    "cv = ShuffleSplit(n_splits=10, test_size=0.3, random_state=42)\n",
    "estimator = DecisionTreeRegressor()\n",
    "\n",
    "plot_learning_curve(estimator, title, X, y, (0.7, 1.01), cv=cv, n_jobs=4)\n",
    "\n",
    "plt.show()  \n",
    "\n",
    "\n",
    "########################### Visualization of Learning Curves for knn ###########################\n",
    " \n",
    "title = \"Learning Curve (knn)\"\n",
    " \n",
    "cv = ShuffleSplit(n_splits=5, test_size=0.3, random_state=42)\n",
    "estimator = neighbors.KNeighborsRegressor() \n",
    "\n",
    "plot_learning_curve(estimator, title, X, y, (0.3, 1.01), cv=cv, n_jobs=4)\n",
    "\n",
    "plt.show()  "
   ]
  }
 ],
 "metadata": {
  "kernelspec": {
   "display_name": "Python 3",
   "language": "python",
   "name": "python3"
  },
  "language_info": {
   "codemirror_mode": {
    "name": "ipython",
    "version": 3
   },
   "file_extension": ".py",
   "mimetype": "text/x-python",
   "name": "python",
   "nbconvert_exporter": "python",
   "pygments_lexer": "ipython3",
   "version": "3.7.6"
  }
 },
 "nbformat": 4,
 "nbformat_minor": 2
}
